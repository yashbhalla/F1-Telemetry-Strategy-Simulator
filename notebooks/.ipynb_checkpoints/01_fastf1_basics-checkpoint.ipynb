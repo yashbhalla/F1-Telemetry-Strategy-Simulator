{
 "cells": [
  {
   "cell_type": "code",
   "execution_count": 1,
   "id": "e92beae1",
   "metadata": {
    "vscode": {
     "languageId": "plaintext"
    }
   },
   "outputs": [
    {
     "ename": "ModuleNotFoundError",
     "evalue": "No module named 'telemetry'",
     "output_type": "error",
     "traceback": [
      "\u001b[0;31m---------------------------------------------------------------------------\u001b[0m",
      "\u001b[0;31mModuleNotFoundError\u001b[0m                       Traceback (most recent call last)",
      "Cell \u001b[0;32mIn[1], line 1\u001b[0m\n\u001b[0;32m----> 1\u001b[0m \u001b[38;5;28;01mfrom\u001b[39;00m \u001b[38;5;21;01mtelemetry\u001b[39;00m\u001b[38;5;21;01m.\u001b[39;00m\u001b[38;5;21;01mingest\u001b[39;00m \u001b[38;5;28;01mimport\u001b[39;00m load_session, driver_laps\n\u001b[1;32m      2\u001b[0m \u001b[38;5;28;01mfrom\u001b[39;00m \u001b[38;5;21;01mtelemetry\u001b[39;00m\u001b[38;5;21;01m.\u001b[39;00m\u001b[38;5;21;01mfeatures\u001b[39;00m \u001b[38;5;28;01mimport\u001b[39;00m stint_summary\n\u001b[1;32m      4\u001b[0m ses \u001b[38;5;241m=\u001b[39m load_session(\u001b[38;5;241m2024\u001b[39m, \u001b[38;5;124m\"\u001b[39m\u001b[38;5;124mMonaco\u001b[39m\u001b[38;5;124m\"\u001b[39m, \u001b[38;5;124m\"\u001b[39m\u001b[38;5;124mR\u001b[39m\u001b[38;5;124m\"\u001b[39m)\n",
      "\u001b[0;31mModuleNotFoundError\u001b[0m: No module named 'telemetry'"
     ]
    }
   ],
   "source": [
    "from telemetry.ingest import load_session, driver_laps\n",
    "from telemetry.features import stint_summary\n",
    "\n",
    "ses = load_session(2024, \"Monaco\", \"R\")\n",
    "ham = driver_laps(ses, \"HAM\")\n",
    "ver = driver_laps(ses, \"VER\")\n",
    "\n",
    "print(stint_summary(ham))\n",
    "print(stint_summary(ver))\n",
    "\n",
    "# Delta trace for a specific lap (telemetry)\n",
    "lap = ham.loc[ham['LapNumber']==20].iloc[0]\n",
    "lap_tel = ses.laps.pick_driver(\"HAM\").pick_lap(20).get_car_data().add_distance()\n"
   ]
  },
  {
   "cell_type": "code",
   "execution_count": null,
   "id": "c48be08b",
   "metadata": {},
   "outputs": [],
   "source": []
  }
 ],
 "metadata": {
  "kernelspec": {
   "display_name": "Python 3 (ipykernel)",
   "language": "python",
   "name": "python3"
  },
  "language_info": {
   "codemirror_mode": {
    "name": "ipython",
    "version": 3
   },
   "file_extension": ".py",
   "mimetype": "text/x-python",
   "name": "python",
   "nbconvert_exporter": "python",
   "pygments_lexer": "ipython3",
   "version": "3.11.5"
  }
 },
 "nbformat": 4,
 "nbformat_minor": 5
}
