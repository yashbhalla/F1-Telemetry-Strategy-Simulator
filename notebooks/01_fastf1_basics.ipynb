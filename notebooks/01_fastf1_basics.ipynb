{
 "cells": [
  {
   "cell_type": "code",
   "execution_count": 9,
   "id": "bf4580c4",
   "metadata": {},
   "outputs": [
    {
     "data": {
      "text/plain": [
       "PosixPath('/Users/yashbhalla/Documents/GitHub/F1-Telemetry-Strategy-Simulator')"
      ]
     },
     "execution_count": 9,
     "metadata": {},
     "output_type": "execute_result"
    }
   ],
   "source": [
    "import sys\n",
    "from pathlib import Path\n",
    "\n",
    "sys.path.append(str(Path.cwd().parent))\n",
    "\n",
    "import setup_path\n",
    "setup_path.add_project_root()"
   ]
  },
  {
   "cell_type": "code",
   "execution_count": 12,
   "id": "e92beae1",
   "metadata": {
    "vscode": {
     "languageId": "plaintext"
    }
   },
   "outputs": [],
   "source": [
    "def driver_laps(session, driver_code: str):\n",
    "    # use new API: pick_drivers\n",
    "    laps = session.laps.pick_drivers(driver_code).copy()\n",
    "\n",
    "    # filter valid laps\n",
    "    laps = laps[laps['LapTime'].notna()]\n",
    "\n",
    "    # safe assignment (avoids SettingWithCopyWarning)\n",
    "    laps.loc[:, 'LapTimeSec'] = laps['LapTime'].dt.total_seconds()\n",
    "\n",
    "    return laps[['LapNumber', 'LapTime', 'LapTimeSec', 'Compound', 'TyreLife', 'Stint']]\n"
   ]
  },
  {
   "cell_type": "code",
   "execution_count": null,
   "id": "c48be08b",
   "metadata": {},
   "outputs": [],
   "source": []
  }
 ],
 "metadata": {
  "kernelspec": {
   "display_name": "Python 3 (ipykernel)",
   "language": "python",
   "name": "python3"
  },
  "language_info": {
   "codemirror_mode": {
    "name": "ipython",
    "version": 3
   },
   "file_extension": ".py",
   "mimetype": "text/x-python",
   "name": "python",
   "nbconvert_exporter": "python",
   "pygments_lexer": "ipython3",
   "version": "3.11.5"
  }
 },
 "nbformat": 4,
 "nbformat_minor": 5
}
